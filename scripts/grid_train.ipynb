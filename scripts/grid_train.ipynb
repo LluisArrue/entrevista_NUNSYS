{
 "cells": [
  {
   "cell_type": "code",
   "execution_count": 1,
   "id": "5e7d0d09",
   "metadata": {},
   "outputs": [],
   "source": [
    "from train_DNN import train_model\n",
    "from os.path import join\n",
    "from IPython.display import clear_output"
   ]
  },
  {
   "cell_type": "markdown",
   "id": "4fce18a3",
   "metadata": {},
   "source": [
    "# define data paths"
   ]
  },
  {
   "cell_type": "code",
   "execution_count": 2,
   "id": "db502714",
   "metadata": {},
   "outputs": [],
   "source": [
    "data_folder = r'..\\data\\arrays'\n",
    "X_train_path = join(data_folder, 'X_train.npy')\n",
    "y_train_path = join(data_folder, 'y_train.npy')\n",
    "X_val_path = join(data_folder, 'X_val.npy')\n",
    "y_val_path = join(data_folder, 'y_val.npy')\n",
    "X_test_path = join(data_folder, 'X_test.npy')\n",
    "y_test_path = join(data_folder, 'y_test.npy')"
   ]
  },
  {
   "cell_type": "markdown",
   "id": "1dc6ba05",
   "metadata": {},
   "source": [
    "# define the hyperparams for the grid search"
   ]
  },
  {
   "cell_type": "code",
   "execution_count": 3,
   "id": "9d38973f",
   "metadata": {},
   "outputs": [],
   "source": [
    "lrs = (0.0005, 0.001, 0.002)\n",
    "hidden_sizes = (64, 128, 256)\n",
    "batch_sizes = (16, 32, 64)\n",
    "num_epochs = (20, 30, 60)\n",
    "dropouts = (.2, .5, .7)"
   ]
  },
  {
   "cell_type": "markdown",
   "id": "3ae1450d",
   "metadata": {},
   "source": [
    "# run the grid search"
   ]
  },
  {
   "cell_type": "code",
   "execution_count": 6,
   "id": "23dd37ec",
   "metadata": {},
   "outputs": [
    {
     "name": "stdout",
     "output_type": "stream",
     "text": [
      "The tensorboard extension is already loaded. To reload it, use:\n",
      "  %reload_ext tensorboard\n"
     ]
    },
    {
     "data": {
      "text/plain": [
       "Reusing TensorBoard on port 6006 (pid 6812), started 0:54:59 ago. (Use '!kill 6812' to kill it.)"
      ]
     },
     "metadata": {},
     "output_type": "display_data"
    },
    {
     "data": {
      "text/html": [
       "\n",
       "      <iframe id=\"tensorboard-frame-79e6673d7c21e51e\" width=\"100%\" height=\"800\" frameborder=\"0\">\n",
       "      </iframe>\n",
       "      <script>\n",
       "        (function() {\n",
       "          const frame = document.getElementById(\"tensorboard-frame-79e6673d7c21e51e\");\n",
       "          const url = new URL(\"/\", window.location);\n",
       "          const port = 6006;\n",
       "          if (port) {\n",
       "            url.port = port;\n",
       "          }\n",
       "          frame.src = url;\n",
       "        })();\n",
       "      </script>\n",
       "    "
      ],
      "text/plain": [
       "<IPython.core.display.HTML object>"
      ]
     },
     "metadata": {},
     "output_type": "display_data"
    }
   ],
   "source": [
    "%load_ext tensorboard\n",
    "%tensorboard --logdir='runs'"
   ]
  },
  {
   "cell_type": "code",
   "execution_count": 5,
   "id": "11492f8d",
   "metadata": {},
   "outputs": [
    {
     "name": "stdout",
     "output_type": "stream",
     "text": [
      "Finished grid search\n"
     ]
    }
   ],
   "source": [
    "for lr in lrs:\n",
    "    for h in hidden_sizes:\n",
    "        for bs in batch_sizes:\n",
    "            for epochs in num_epochs:\n",
    "                for dp in dropouts:\n",
    "                    print(f'Trying model with lr: {lr} hidden_size: {h} batch size: {bs} and num epochs: {epochs}')\n",
    "                    train_model(\n",
    "                        X_train_path, y_train_path, epochs, h, \n",
    "                        X_test_path, y_test_path, X_val_path, y_val_path,\n",
    "                        bs, lr, dp, 'models'\n",
    "                    )\n",
    "                    clear_output(wait=True)\n",
    "print('Finished grid search')"
   ]
  },
  {
   "cell_type": "markdown",
   "id": "52bedec4",
   "metadata": {},
   "source": [
    "# results"
   ]
  },
  {
   "cell_type": "code",
   "execution_count": 7,
   "id": "96a18e5a",
   "metadata": {},
   "outputs": [],
   "source": [
    "import pandas as pd"
   ]
  },
  {
   "cell_type": "code",
   "execution_count": 8,
   "id": "ce67dfb9",
   "metadata": {},
   "outputs": [],
   "source": [
    "h_params_table = pd.read_csv('../hparams_table.csv')"
   ]
  },
  {
   "cell_type": "code",
   "execution_count": 12,
   "id": "a6069d95",
   "metadata": {},
   "outputs": [
    {
     "data": {
      "text/html": [
       "<div>\n",
       "<style scoped>\n",
       "    .dataframe tbody tr th:only-of-type {\n",
       "        vertical-align: middle;\n",
       "    }\n",
       "\n",
       "    .dataframe tbody tr th {\n",
       "        vertical-align: top;\n",
       "    }\n",
       "\n",
       "    .dataframe thead th {\n",
       "        text-align: right;\n",
       "    }\n",
       "</style>\n",
       "<table border=\"1\" class=\"dataframe\">\n",
       "  <thead>\n",
       "    <tr style=\"text-align: right;\">\n",
       "      <th></th>\n",
       "      <th>lr</th>\n",
       "      <th>bsize</th>\n",
       "      <th>num epochs</th>\n",
       "      <th>input size</th>\n",
       "      <th>hidden size</th>\n",
       "      <th>test/loss</th>\n",
       "      <th>test/acc</th>\n",
       "    </tr>\n",
       "  </thead>\n",
       "  <tbody>\n",
       "    <tr>\n",
       "      <th>97</th>\n",
       "      <td>0.0010</td>\n",
       "      <td>32.0</td>\n",
       "      <td>60.0</td>\n",
       "      <td>384.0</td>\n",
       "      <td>64.0</td>\n",
       "      <td>0.524772</td>\n",
       "      <td>0.815374</td>\n",
       "    </tr>\n",
       "    <tr>\n",
       "      <th>82</th>\n",
       "      <td>0.0010</td>\n",
       "      <td>16.0</td>\n",
       "      <td>20.0</td>\n",
       "      <td>384.0</td>\n",
       "      <td>64.0</td>\n",
       "      <td>0.441721</td>\n",
       "      <td>0.815374</td>\n",
       "    </tr>\n",
       "    <tr>\n",
       "      <th>85</th>\n",
       "      <td>0.0010</td>\n",
       "      <td>16.0</td>\n",
       "      <td>30.0</td>\n",
       "      <td>384.0</td>\n",
       "      <td>64.0</td>\n",
       "      <td>0.466197</td>\n",
       "      <td>0.814060</td>\n",
       "    </tr>\n",
       "    <tr>\n",
       "      <th>75</th>\n",
       "      <td>0.0005</td>\n",
       "      <td>64.0</td>\n",
       "      <td>30.0</td>\n",
       "      <td>384.0</td>\n",
       "      <td>256.0</td>\n",
       "      <td>0.454506</td>\n",
       "      <td>0.814060</td>\n",
       "    </tr>\n",
       "    <tr>\n",
       "      <th>35</th>\n",
       "      <td>0.0005</td>\n",
       "      <td>16.0</td>\n",
       "      <td>60.0</td>\n",
       "      <td>384.0</td>\n",
       "      <td>128.0</td>\n",
       "      <td>0.468368</td>\n",
       "      <td>0.814060</td>\n",
       "    </tr>\n",
       "  </tbody>\n",
       "</table>\n",
       "</div>"
      ],
      "text/plain": [
       "        lr  bsize  num epochs  input size  hidden size  test/loss  test/acc\n",
       "97  0.0010   32.0        60.0       384.0         64.0   0.524772  0.815374\n",
       "82  0.0010   16.0        20.0       384.0         64.0   0.441721  0.815374\n",
       "85  0.0010   16.0        30.0       384.0         64.0   0.466197  0.814060\n",
       "75  0.0005   64.0        30.0       384.0        256.0   0.454506  0.814060\n",
       "35  0.0005   16.0        60.0       384.0        128.0   0.468368  0.814060"
      ]
     },
     "execution_count": 12,
     "metadata": {},
     "output_type": "execute_result"
    }
   ],
   "source": [
    "h_params_table.sort_values('test/acc', ascending=False).head()"
   ]
  },
  {
   "cell_type": "code",
   "execution_count": null,
   "id": "0b2dcb66",
   "metadata": {},
   "outputs": [],
   "source": []
  }
 ],
 "metadata": {
  "kernelspec": {
   "display_name": "Python 3 (ipykernel)",
   "language": "python",
   "name": "python3"
  },
  "language_info": {
   "codemirror_mode": {
    "name": "ipython",
    "version": 3
   },
   "file_extension": ".py",
   "mimetype": "text/x-python",
   "name": "python",
   "nbconvert_exporter": "python",
   "pygments_lexer": "ipython3",
   "version": "3.8.0"
  }
 },
 "nbformat": 4,
 "nbformat_minor": 5
}
